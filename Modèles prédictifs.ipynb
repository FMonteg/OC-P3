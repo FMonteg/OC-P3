{
 "cells": [
  {
   "cell_type": "markdown",
   "metadata": {},
   "source": [
    "# Mise en place des différents modèles prédictifs\n",
    "\n",
    "## Chargement et préparation des données\n",
    "\n",
    "Nous allons commencer par importer les bibliothèques requises pour nos différents modèles, ainsi que la base de données préalablement formatée pour cette étude."
   ]
  },
  {
   "cell_type": "code",
   "execution_count": 1,
   "metadata": {},
   "outputs": [
    {
     "name": "stdout",
     "output_type": "stream",
     "text": [
      "(2315, 15) (579, 15) (2315, 15) (579, 15)\n",
      "Index(['ENERGYSTARScore', 'LargestPropertyUseTypeGFA', 'NumberofBuildings',\n",
      "       'NumberofFloors', 'PropertyGFAParking',\n",
      "       'SecondLargestPropertyUseTypeGFA', 'ThirdLargestPropertyUseTypeGFA',\n",
      "       'GHGE_log', 'Hôtel', 'Entrepôt', 'Autre', 'Magasin', 'Bureaux', 'Ecole',\n",
      "       'Age'],\n",
      "      dtype='object')\n",
      "Index(['ENERGYSTARScore', 'LargestPropertyUseTypeGFA', 'NumberofBuildings',\n",
      "       'NumberofFloors', 'PropertyGFAParking',\n",
      "       'SecondLargestPropertyUseTypeGFA', 'ThirdLargestPropertyUseTypeGFA',\n",
      "       'SEU_log', 'Hôtel', 'Entrepôt', 'Autre', 'Magasin', 'Bureaux', 'Ecole',\n",
      "       'Age'],\n",
      "      dtype='object')\n"
     ]
    }
   ],
   "source": [
    "#On importe les bibliothèques requises\n",
    "import pandas as pd\n",
    "import matplotlib.pyplot as plt\n",
    "import numpy as np\n",
    "import random as rd\n",
    "import timeit\n",
    "\n",
    "#Nous aurons également besoin de plusieurs fonctions de scikit-learn\n",
    "from sklearn import linear_model\n",
    "from sklearn import preprocessing\n",
    "from sklearn import metrics\n",
    "from sklearn import kernel_ridge\n",
    "from sklearn import dummy\n",
    "from sklearn.ensemble import RandomForestRegressor\n",
    "from sklearn.model_selection import GridSearchCV\n",
    "#Ainsi que le regrésseur XGBoost\n",
    "from xgboost import XGBRegressor\n",
    "\n",
    "#On charge les bases de données d'entrainement et de test (nettoyées et formatées à l'avance)\n",
    "train_ghg = pd.read_csv('database_train_ghg.csv')\n",
    "test_ghg = pd.read_csv('database_test_ghg.csv')\n",
    "train_nrj = pd.read_csv('database_train_nrj.csv')\n",
    "test_nrj = pd.read_csv('database_test_nrj.csv')\n",
    "\n",
    "#On affiche brièvement la base d'entraînement pour vérification\n",
    "print(train_ghg.shape, test_ghg.shape, train_nrj.shape, test_nrj.shape)\n",
    "print(train_ghg.columns)\n",
    "print(train_nrj.columns)"
   ]
  },
  {
   "cell_type": "markdown",
   "metadata": {},
   "source": [
    "Nous allons extraire et renommer les différentes données d'entraînement et de tests que nous utiliserons. Rappelons que nous devons étudier 2 prédictions séparément : la consommation d'énergie ainsi que l'émission de gaz à effets de serre."
   ]
  },
  {
   "cell_type": "code",
   "execution_count": 2,
   "metadata": {},
   "outputs": [],
   "source": [
    "#On construit les échantillons qui vont nous intéresser, i.e. les variables d'entrainement et de test\n",
    "X_train_ghg = train_ghg.drop(columns = ['GHGE_log', 'ENERGYSTARScore'])\n",
    "X_test_ghg = test_ghg.drop(columns = ['GHGE_log', 'ENERGYSTARScore'])\n",
    "X_train_nrj = train_nrj.drop(columns = ['SEU_log', 'ENERGYSTARScore'])\n",
    "X_test_nrj = test_nrj.drop(columns = ['SEU_log', 'ENERGYSTARScore'])\n",
    "#Il faut bien séparer les variables à prédire \"y\" en fonction du problème considéré, avec toujours entraînement et test\n",
    "y_train_ghg = train_ghg['GHGE_log']\n",
    "y_test_ghg = test_ghg['GHGE_log']\n",
    "y_train_nrj = train_nrj['SEU_log']\n",
    "y_test_nrj = test_nrj['SEU_log']"
   ]
  },
  {
   "cell_type": "markdown",
   "metadata": {},
   "source": [
    "Nous allons également préparer deux DataFrames vides qui contiendront les indicateurs de performances de nos différents modèles pour comparaison et sélection du modèle le plus efficace. Nous considèrerons quatre indicateurs de performances de nos modèles : \n",
    "- la racine de l'erreur quadratique moyenne RMSE, afin de mesurer l'erreur faite sur nos prédictions,\n",
    "- le coefficient de détermination R² qui quantifie le pouvoir explicatif de notre modèle,\n",
    "- le pourcentage d'erreur relative moyenne MAPE, qui est plus explicite et interprétable que la RMSE,\n",
    "- le temps de calcul du modèle, qui aura son importance puisque l'optimisation par validation croisée demandera de construire un même modèle un grand nombre de fois."
   ]
  },
  {
   "cell_type": "code",
   "execution_count": 3,
   "metadata": {},
   "outputs": [],
   "source": [
    "#On prépare les deux DataFrames vides\n",
    "indicateurs_ghg = pd.DataFrame(index = ['RMSE train', 'RMSE test', 'R² train', 'R² test', 'MAPE train', 'MAPE test', \"time\"])\n",
    "indicateurs_nrj = pd.DataFrame(index = ['RMSE train', 'RMSE test', 'R² train', 'R² test', 'MAPE train', 'MAPE test', \"time\"])\n",
    "\n",
    "#Il nous faudra une fonction pour facilement retransformer nos variables\n",
    "def exp_var(y):\n",
    "    res = np.exp(y)\n",
    "    return res\n",
    "\n",
    "#Une fonction nous permettra d'évaluer ses performances pour nos différents indicateurs,\n",
    "#sur le jeu d'entraînement comme sur le jeu de test, en tenant compte de la transformation des variables\n",
    "def indic_performances(modele, X_train, y_train, X_test, y_test):\n",
    "    y_simul = modele.predict(X_train)\n",
    "    y_pred = modele.predict(X_test)    \n",
    "    #Il nous faut transformer les variables fournies et prédites en les passant à l'exponentielle\n",
    "    y_train_exp = exp_var(y_train)\n",
    "    y_test_exp = exp_var(y_test)\n",
    "    y_simul_exp = exp_var(y_simul)\n",
    "    y_pred_exp = exp_var(y_pred)\n",
    "    #Nous utiliserons comme indicateurs la RMSE, le R² ainsi que la MAPE sur les jeux de train et de test\n",
    "    rmse_train = np.sqrt(metrics.mean_squared_error(y_train_exp, y_simul_exp))\n",
    "    rmse_test = np.sqrt(metrics.mean_squared_error(y_test_exp, y_pred_exp))\n",
    "    r2_train = metrics.r2_score(y_train_exp, y_simul_exp)\n",
    "    r2_test = metrics.r2_score(y_test_exp, y_pred_exp)\n",
    "    mape_train = metrics.mean_absolute_percentage_error(y_train_exp, y_simul_exp)\n",
    "    mape_test = metrics.mean_absolute_percentage_error(y_test_exp, y_pred_exp)\n",
    "    return (rmse_train, rmse_test, r2_train, r2_test, mape_train, mape_test)"
   ]
  },
  {
   "cell_type": "markdown",
   "metadata": {},
   "source": [
    "## Modèle naïf\n",
    "\n",
    "On commence par mettre en place un modèle prédictif naïf, qui se contente de renvoyer la médiane de la variable cible dans notre jeu d'entraînement. Ceci nous servira de base pour comparer l'efficacité des modèles plus complexes que nous testerons par la suite."
   ]
  },
  {
   "cell_type": "code",
   "execution_count": 4,
   "metadata": {},
   "outputs": [],
   "source": [
    "#On définit une fonction mettant en place une régression naïve\n",
    "#et évaluant ses performances sur les jeux de train et de test\n",
    "def regression_naive_base(X_train, y_train, X_test, y_test, methode = 'median'):\n",
    "    #On construit le modèle via sklearn et on l'initialise avec la \"stratégie\" retenue\n",
    "    dummR = dummy.DummyRegressor(strategy=methode)\n",
    "    #On retient le temps de démarrage du calcul, avant de calquer le modèle sur le jeu de train\n",
    "    start_time = timeit.default_timer()\n",
    "    dummR.fit(X_train, y_train)\n",
    "    #On récupère le temps de calcul, ainsi que les prédictions sur les deux jeux pour évaluer les performances\n",
    "    elapsed = timeit.default_timer() - start_time\n",
    "    #On récupère les indicateurs de performances de ce modèle\n",
    "    (rmse_train, rmse_test, r2_train, r2_test, mape_train, mape_test) =\\\n",
    "            indic_performances(dummR, X_train, y_train, X_test, y_test)\n",
    "    return (rmse_train, rmse_test, r2_train, r2_test, mape_train, mape_test, elapsed)"
   ]
  },
  {
   "cell_type": "markdown",
   "metadata": {},
   "source": [
    "Nous allons appliquer notre fonction nouvellement créée aux deux jeux de données d'entraînement, pour prédire respectivement les émissions de gaz à effets de serre et la consommation d'énergie. Dans les deux cas nous ne conserverons que les indicateurs de performance, puisque nous devrons recalculer le modèle que nous sélectionnerons afin de l'optimiser."
   ]
  },
  {
   "cell_type": "code",
   "execution_count": 5,
   "metadata": {},
   "outputs": [],
   "source": [
    "#On simule notre modèle dans les deux cas, en sauvegardant nos indicateurs\n",
    "indicateurs_ghg['Baseline naïve'] = regression_naive_base(X_train_ghg, y_train_ghg, X_test_ghg, y_test_ghg)\n",
    "indicateurs_nrj['Baseline naïve'] = regression_naive_base(X_train_nrj, y_train_nrj, X_test_nrj, y_test_nrj)"
   ]
  },
  {
   "cell_type": "code",
   "execution_count": 6,
   "metadata": {
    "scrolled": true
   },
   "outputs": [
    {
     "name": "stdout",
     "output_type": "stream",
     "text": [
      "Performances du modèle naïf (médiane) pour la prédiction de l'émission de gaz à effets de serre :\n",
      "RMSE train    2.012064\n",
      "RMSE test     2.240513\n",
      "R² train     -0.120505\n",
      "R² test      -0.178690\n",
      "MAPE train    1.071710\n",
      "MAPE test     0.940943\n",
      "time          0.001881\n",
      "Name: Baseline naïve, dtype: float64\n",
      "Performances du modèle naïf (médiane) pour la prédiction de la consommation d'énergie :\n",
      "RMSE train    2.274009\n",
      "RMSE test     2.440417\n",
      "R² train     -0.145237\n",
      "R² test      -0.184020\n",
      "MAPE train    0.904661\n",
      "MAPE test     0.868021\n",
      "time          0.000639\n",
      "Name: Baseline naïve, dtype: float64\n"
     ]
    }
   ],
   "source": [
    "#On va afficher nos indicateurs de performance :\n",
    "print(\"Performances du modèle naïf (médiane) pour la prédiction de l'émission de gaz à effets de serre :\")\n",
    "print(indicateurs_ghg['Baseline naïve'])\n",
    "print(\"Performances du modèle naïf (médiane) pour la prédiction de la consommation d'énergie :\")\n",
    "print(indicateurs_nrj['Baseline naïve'])"
   ]
  },
  {
   "cell_type": "markdown",
   "metadata": {},
   "source": [
    "## Régression linéaire\n",
    "\n",
    "Nous allons mettre en place une régression linéaire basique afin d'observer les performances des régressions linéaires indépendamment du choix d'éventuels hyperparamètres. Cela nous servira de baseline si les performances sont meilleure que pour la modèle naïf."
   ]
  },
  {
   "cell_type": "code",
   "execution_count": 7,
   "metadata": {},
   "outputs": [],
   "source": [
    "#On définit une fonction mettant en place une régression linéaire basique\n",
    "#et évaluant ses performances sur les jeux de train et de test\n",
    "def regression_lineaire_base(X_train, y_train, X_test, y_test):\n",
    "    #On construit le modèle via sklearn et on l'initialise avec le paramètre a\n",
    "    lineaire = linear_model.LinearRegression()\n",
    "    #On retient le temps de démarrage du calcul, avant de calquer le modèle sur le jeu de train\n",
    "    start_time = timeit.default_timer()\n",
    "    lineaire.fit(X_train, y_train)\n",
    "    #On récupère le temps de calcul, ainsi que les prédictions sur les deux jeux pour évaluer les performances\n",
    "    elapsed = timeit.default_timer() - start_time\n",
    "    #On récupère les indicateurs de performances de ce modèle\n",
    "    (rmse_train, rmse_test, r2_train, r2_test, mape_train, mape_test) =\\\n",
    "            indic_performances(lineaire, X_train, y_train, X_test, y_test)\n",
    "    return (rmse_train, rmse_test, r2_train, r2_test, mape_train, mape_test, elapsed)"
   ]
  },
  {
   "cell_type": "markdown",
   "metadata": {},
   "source": [
    "Nous allons appliquer notre fonction nouvellement créée aux deux jeux de données d'entraînement, pour prédire respectivement les émissions de gaz à effets de serre et la consommation d'énergie. Dans les deux cas nous ne conserverons que les indicateurs de performance, puisque nous devrons recalculer le modèle que nous sélectionnerons afin de l'optimiser."
   ]
  },
  {
   "cell_type": "code",
   "execution_count": 8,
   "metadata": {},
   "outputs": [],
   "source": [
    "#On simule notre modèle dans les deux cas, en sauvegardant nos indicateurs\n",
    "indicateurs_ghg['Régression linéaire'] = regression_lineaire_base(X_train_ghg, y_train_ghg, X_test_ghg, y_test_ghg)\n",
    "indicateurs_nrj['Régression linéaire'] = regression_lineaire_base(X_train_nrj, y_train_nrj, X_test_nrj, y_test_nrj)"
   ]
  },
  {
   "cell_type": "code",
   "execution_count": 9,
   "metadata": {},
   "outputs": [
    {
     "name": "stdout",
     "output_type": "stream",
     "text": [
      "Performances de la régression linéaire basique pour la prédiction de l'émission de gaz à effets de serre :\n",
      "RMSE train    3.190162\n",
      "RMSE test     4.949851\n",
      "R² train     -1.816799\n",
      "R² test      -4.752925\n",
      "MAPE train    0.837635\n",
      "MAPE test     0.789017\n",
      "time          1.016166\n",
      "Name: Régression linéaire, dtype: float64\n",
      "Performances de la régression linéaire basique pour la prédiction de la consommation d'énergie :\n",
      "RMSE train     8.174411\n",
      "RMSE test     13.245934\n",
      "R² train     -13.798724\n",
      "R² test      -33.881592\n",
      "MAPE train     0.706548\n",
      "MAPE test      0.697613\n",
      "time           0.001711\n",
      "Name: Régression linéaire, dtype: float64\n"
     ]
    }
   ],
   "source": [
    "#On va afficher nos indicateurs de performance :\n",
    "print(\"Performances de la régression linéaire basique pour la prédiction de l'émission de gaz à effets de serre :\")\n",
    "print(indicateurs_ghg['Régression linéaire'])\n",
    "print(\"Performances de la régression linéaire basique pour la prédiction de la consommation d'énergie :\")\n",
    "print(indicateurs_nrj['Régression linéaire'])"
   ]
  },
  {
   "cell_type": "markdown",
   "metadata": {},
   "source": [
    "## Régression ridge linéaire\n",
    "\n",
    "Nous allons mettre en place une régression ridge linéaire afin d'avoir une régression linéaire qui conserve des poids relativement faible. Nous allons utiliser une valeur par défaut pour le coefficient de régularisation, nous l'optimiserons plus tard si ce modèle est sélectionné."
   ]
  },
  {
   "cell_type": "code",
   "execution_count": 10,
   "metadata": {},
   "outputs": [],
   "source": [
    "#On définit une fonction mettant en place une régression linéaire ridge\n",
    "#et évaluant ses performances sur les jeux de train et de test\n",
    "def regression_ridge_base(X_train, y_train, X_test, y_test, a = 1):\n",
    "    #On construit le modèle via sklearn et on l'initialise avec le paramètre a\n",
    "    ridge = linear_model.Ridge()\n",
    "    ridge.set_params(alpha=a)\n",
    "    #On retient le temps de démarrage du calcul, avant de calquer le modèle sur le jeu de train\n",
    "    start_time = timeit.default_timer()\n",
    "    ridge.fit(X_train, y_train)\n",
    "    #On récupère le temps de calcul, ainsi que les prédictions sur les deux jeux pour évaluer les performances\n",
    "    elapsed = timeit.default_timer() - start_time\n",
    "    #On récupère les indicateurs de performances de ce modèle\n",
    "    (rmse_train, rmse_test, r2_train, r2_test, mape_train, mape_test) =\\\n",
    "            indic_performances(ridge, X_train, y_train, X_test, y_test)\n",
    "    return (rmse_train, rmse_test, r2_train, r2_test, mape_train, mape_test, elapsed)"
   ]
  },
  {
   "cell_type": "markdown",
   "metadata": {},
   "source": [
    "Nous allons appliquer notre fonction nouvellement créée aux deux jeux de données d'entraînement, pour prédire respectivement les émissions de gaz à effets de serre et la consommation d'énergie. Dans les deux cas nous ne conserverons que les indicateurs de performance, puisque nous devrons recalculer le modèle que nous sélectionnerons afin de l'optimiser."
   ]
  },
  {
   "cell_type": "code",
   "execution_count": 11,
   "metadata": {},
   "outputs": [],
   "source": [
    "#On simule notre modèle dans les deux cas, en sauvegardant nos indicateurs\n",
    "indicateurs_ghg['Ridge linéaire'] = regression_ridge_base(X_train_ghg, y_train_ghg, X_test_ghg, y_test_ghg)\n",
    "indicateurs_nrj['Ridge linéaire'] = regression_ridge_base(X_train_nrj, y_train_nrj, X_test_nrj, y_test_nrj)"
   ]
  },
  {
   "cell_type": "code",
   "execution_count": 12,
   "metadata": {
    "scrolled": true
   },
   "outputs": [
    {
     "name": "stdout",
     "output_type": "stream",
     "text": [
      "Performances de la régression ridge linéaire pour la prédiction de l'émission de gaz à effets de serre :\n",
      "RMSE train    3.183251\n",
      "RMSE test     4.935135\n",
      "R² train     -1.804608\n",
      "R² test      -4.718767\n",
      "MAPE train    0.837615\n",
      "MAPE test     0.788896\n",
      "time          0.100720\n",
      "Name: Ridge linéaire, dtype: float64\n",
      "Performances de la régression ridge linéaire pour la prédiction de la consommation d'énergie :\n",
      "RMSE train     8.160245\n",
      "RMSE test     13.215788\n",
      "R² train     -13.747476\n",
      "R² test      -33.723004\n",
      "MAPE train     0.706508\n",
      "MAPE test      0.697482\n",
      "time           0.001592\n",
      "Name: Ridge linéaire, dtype: float64\n"
     ]
    }
   ],
   "source": [
    "#On va afficher nos indicateurs de performance :\n",
    "print(\"Performances de la régression ridge linéaire pour la prédiction de l'émission de gaz à effets de serre :\")\n",
    "print(indicateurs_ghg['Ridge linéaire'])\n",
    "print(\"Performances de la régression ridge linéaire pour la prédiction de la consommation d'énergie :\")\n",
    "print(indicateurs_nrj['Ridge linéaire'])"
   ]
  },
  {
   "cell_type": "markdown",
   "metadata": {},
   "source": [
    "### Ridge à noyau\n",
    "\n",
    "Nous allons également mettre en place une régression ridge non linéaire à l'aide d'un noyau gaussien."
   ]
  },
  {
   "cell_type": "code",
   "execution_count": 13,
   "metadata": {},
   "outputs": [],
   "source": [
    "#On définit une fonction mettant en place une régression ridge à noyau (gaussien par défaut)\n",
    "#et évaluant ses performances sur les jeux de train et de test\n",
    "def ridge_noyau_base(X_train, y_train, X_test, y_test, a = 1, noyau = 'rbf'):\n",
    "    #On construit le modèle via sklearn et on l'initialise avec les hyperparamètres a, noyau et gamma\n",
    "    predicteur = kernel_ridge.KernelRidge(alpha=a, kernel=noyau, gamma=0.01)\n",
    "    #On retient le temps de démarrage du calcul, avant de calquer le modèle sur le jeu de train\n",
    "    start_time = timeit.default_timer()\n",
    "    predicteur.fit(X_train, y_train)\n",
    "    #On récupère le temps de calcul, ainsi que les prédictions sur les deux jeux pour évaluer les performances\n",
    "    elapsed = timeit.default_timer() - start_time\n",
    "    #On récupère les indicateurs de performances de ce modèle\n",
    "    (rmse_train, rmse_test, r2_train, r2_test, mape_train, mape_test) =\\\n",
    "            indic_performances(predicteur, X_train, y_train, X_test, y_test)\n",
    "    return (rmse_train, rmse_test, r2_train, r2_test, mape_train, mape_test, elapsed)"
   ]
  },
  {
   "cell_type": "code",
   "execution_count": 14,
   "metadata": {},
   "outputs": [],
   "source": [
    "#On simule notre modèle dans les deux cas, en sauvegardant nos indicateurs\n",
    "indicateurs_ghg['Ridge noyau gaussien'] = ridge_noyau_base(X_train_ghg, y_train_ghg, X_test_ghg, y_test_ghg)\n",
    "indicateurs_nrj['Ridge noyau gaussien'] = ridge_noyau_base(X_train_nrj, y_train_nrj, X_test_nrj, y_test_nrj)"
   ]
  },
  {
   "cell_type": "code",
   "execution_count": 15,
   "metadata": {},
   "outputs": [
    {
     "name": "stdout",
     "output_type": "stream",
     "text": [
      "Performances de la régression ridge à noyau gaussien pour la prédiction de l'émission de gaz à effets de serre :\n",
      "RMSE train    1.422825\n",
      "RMSE test     1.785368\n",
      "R² train      0.439683\n",
      "R² test       0.251555\n",
      "MAPE train    0.733419\n",
      "MAPE test     0.707468\n",
      "time          0.489005\n",
      "Name: Ridge noyau gaussien, dtype: float64\n",
      "Performances de la régression ridge à noyau gaussien pour la prédiction de la consommation d'énergie :\n",
      "RMSE train    1.377576\n",
      "RMSE test     1.768636\n",
      "R² train      0.579716\n",
      "R² test       0.378118\n",
      "MAPE train    0.547084\n",
      "MAPE test     0.560697\n",
      "time          0.260430\n",
      "Name: Ridge noyau gaussien, dtype: float64\n"
     ]
    }
   ],
   "source": [
    "#On va afficher nos indicateurs de performance :\n",
    "print(\"Performances de la régression ridge à noyau gaussien pour la prédiction de l'émission de gaz à effets de serre :\")\n",
    "print(indicateurs_ghg['Ridge noyau gaussien'])\n",
    "print(\"Performances de la régression ridge à noyau gaussien pour la prédiction de la consommation d'énergie :\")\n",
    "print(indicateurs_nrj['Ridge noyau gaussien'])"
   ]
  },
  {
   "cell_type": "markdown",
   "metadata": {},
   "source": [
    "## Random Forest Regressor\n",
    "\n",
    "Le modèle de régression par une forêt aléatoire est un exemple de modèle ensembliste exploitant la méthode du bagging. Cela peut être intéressant si nos apprenants faibles ont tendances à faire du sur-apprentissage sur nos données."
   ]
  },
  {
   "cell_type": "code",
   "execution_count": 16,
   "metadata": {},
   "outputs": [],
   "source": [
    "#On définit une fonction mettant en place l'algorithme Random Forest\n",
    "#et évaluant ses performances sur les jeux de train et de test\n",
    "def random_forest_base(X_train, y_train, X_test, y_test, nbr_estimateurs = 100):\n",
    "    #On construit le modèle via sklearn et on l'initialise avec le nombre d'estimateurs utilisés\n",
    "    random_forest = RandomForestRegressor(n_estimators = nbr_estimateurs)\n",
    "    #On retient le temps de démarrage du calcul, avant de calquer le modèle sur le jeu de train\n",
    "    start_time = timeit.default_timer()\n",
    "    random_forest.fit(X_train, y_train)\n",
    "    #On récupère le temps de calcul, ainsi que les prédictions sur les deux jeux pour évaluer les performances\n",
    "    elapsed = timeit.default_timer() - start_time\n",
    "    #On récupère les indicateurs de performances de ce modèle\n",
    "    (rmse_train, rmse_test, r2_train, r2_test, mape_train, mape_test) =\\\n",
    "            indic_performances(random_forest, X_train, y_train, X_test, y_test)\n",
    "    return (rmse_train, rmse_test, r2_train, r2_test, mape_train, mape_test, elapsed)"
   ]
  },
  {
   "cell_type": "code",
   "execution_count": 17,
   "metadata": {},
   "outputs": [],
   "source": [
    "#On simule notre modèle dans les deux cas, en sauvegardant nos indicateurs\n",
    "indicateurs_ghg['Random Forest'] = random_forest_base(X_train_ghg, y_train_ghg, X_test_ghg, y_test_ghg)\n",
    "indicateurs_nrj['Random Forest'] = random_forest_base(X_train_nrj, y_train_nrj, X_test_nrj, y_test_nrj)"
   ]
  },
  {
   "cell_type": "code",
   "execution_count": 18,
   "metadata": {},
   "outputs": [
    {
     "name": "stdout",
     "output_type": "stream",
     "text": [
      "Performances de la régression Random Forest pour la prédiction de l'émission de gaz à effets de serre :\n",
      "RMSE train    0.488719\n",
      "RMSE test     1.122237\n",
      "R² train      0.933893\n",
      "R² test       0.704285\n",
      "MAPE train    0.140910\n",
      "MAPE test     0.404385\n",
      "time          0.784297\n",
      "Name: Random Forest, dtype: float64\n",
      "Performances de la régression Random Forest pour la prédiction de la consommation d'énergie :\n",
      "RMSE train    0.445697\n",
      "RMSE test     1.030994\n",
      "R² train      0.956006\n",
      "R² test       0.788679\n",
      "MAPE train    0.111709\n",
      "MAPE test     0.303523\n",
      "time          0.852733\n",
      "Name: Random Forest, dtype: float64\n"
     ]
    }
   ],
   "source": [
    "#On va afficher nos indicateurs de performance :\n",
    "print(\"Performances de la régression Random Forest pour la prédiction de l'émission de gaz à effets de serre :\")\n",
    "print(indicateurs_ghg['Random Forest'])\n",
    "print(\"Performances de la régression Random Forest pour la prédiction de la consommation d'énergie :\")\n",
    "print(indicateurs_nrj['Random Forest'])"
   ]
  },
  {
   "cell_type": "markdown",
   "metadata": {},
   "source": [
    "### XGBoost\n",
    "\n",
    "L'algorithme XGBoost est une version améliorée du modèle de Gradient Boosting, qui comme son nom l'indique appartient au domaine des modèles ensemblistes basés sur le boosting. L'algorithme XGBoost est souvent décrit comme l'un des modèles les plus performants en Machine Learning. Nous allons mettre sa réputation à l'épreuve dans notre étude en comparant ses performances à celles des 3 modèles précédemment implémentés."
   ]
  },
  {
   "cell_type": "code",
   "execution_count": 19,
   "metadata": {},
   "outputs": [],
   "source": [
    "#On définit une fonction mettant en place l'algorithme XGBoost avec plusieurs paramètres par défaut\n",
    "#et évaluant ses performances sur les jeux de train et de test\n",
    "def XGBoost_base(X_train, y_train, X_test, y_test, nbr_estim = 100):\n",
    "    #On construit le modèle via sklearn et on l'initialise avec le nombre d'estimateurs utilisés\n",
    "    XGBoost = XGBRegressor(n_estimators = nbr_estim, seed = 42, eval_metric='mape')\n",
    "    #On retient le temps de démarrage du calcul, avant de calquer le modèle sur le jeu de train\n",
    "    start_time = timeit.default_timer()\n",
    "    XGBoost.fit(X_train, y_train)\n",
    "    #On récupère le temps de calcul, ainsi que les prédictions sur les deux jeux pour évaluer les performances\n",
    "    elapsed = timeit.default_timer() - start_time\n",
    "    #On récupère les indicateurs de performances de ce modèle\n",
    "    (rmse_train, rmse_test, r2_train, r2_test, mape_train, mape_test) =\\\n",
    "            indic_performances(XGBoost, X_train, y_train, X_test, y_test)\n",
    "    return (rmse_train, rmse_test, r2_train, r2_test, mape_train, mape_test, elapsed)"
   ]
  },
  {
   "cell_type": "code",
   "execution_count": 20,
   "metadata": {},
   "outputs": [],
   "source": [
    "#On simule notre modèle dans les deux cas, en sauvegardant nos indicateurs\n",
    "indicateurs_ghg['XGBoost'] = XGBoost_base(X_train_ghg, y_train_ghg, X_test_ghg, y_test_ghg)\n",
    "indicateurs_nrj['XGBoost'] = XGBoost_base(X_train_nrj, y_train_nrj, X_test_nrj, y_test_nrj)"
   ]
  },
  {
   "cell_type": "code",
   "execution_count": 21,
   "metadata": {},
   "outputs": [
    {
     "name": "stdout",
     "output_type": "stream",
     "text": [
      "Performances de l'algorithme XGBoost pour la prédiction de l'émission de gaz à effets de serre :\n",
      "RMSE train    0.440072\n",
      "RMSE test     1.154568\n",
      "R² train      0.946398\n",
      "R² test       0.687001\n",
      "MAPE train    0.153170\n",
      "MAPE test     0.406548\n",
      "time          0.268737\n",
      "Name: XGBoost, dtype: float64\n",
      "Performances de l'algorithme XGBoost pour la prédiction de la consommation d'énergie :\n",
      "RMSE train    0.335202\n",
      "RMSE test     1.011198\n",
      "R² train      0.975116\n",
      "R² test       0.796716\n",
      "MAPE train    0.117876\n",
      "MAPE test     0.312257\n",
      "time          0.155798\n",
      "Name: XGBoost, dtype: float64\n"
     ]
    }
   ],
   "source": [
    "#On va afficher nos indicateurs de performance :\n",
    "print(\"Performances de l'algorithme XGBoost pour la prédiction de l'émission de gaz à effets de serre :\")\n",
    "print(indicateurs_ghg['XGBoost'])\n",
    "print(\"Performances de l'algorithme XGBoost pour la prédiction de la consommation d'énergie :\")\n",
    "print(indicateurs_nrj['XGBoost'])"
   ]
  },
  {
   "cell_type": "markdown",
   "metadata": {},
   "source": [
    "# Sélection et amélioration du modèle prédictif\n",
    "\n",
    "## Comparaison des indicateurs de performance\n",
    "\n",
    "Nous allons afficher nos différents indicateurs de performances pour nos 4 modèles prédictifs, sur le jeu d'entraînement comme sur le jeu de test. Commençons avec la prédiction de l'émission de gaz à effets de serre."
   ]
  },
  {
   "cell_type": "code",
   "execution_count": 22,
   "metadata": {},
   "outputs": [
    {
     "name": "stdout",
     "output_type": "stream",
     "text": [
      "Indicateurs de performances pour la prédiction de l'émission de gaz à effets de serre :\n"
     ]
    },
    {
     "data": {
      "text/html": [
       "<div>\n",
       "<style scoped>\n",
       "    .dataframe tbody tr th:only-of-type {\n",
       "        vertical-align: middle;\n",
       "    }\n",
       "\n",
       "    .dataframe tbody tr th {\n",
       "        vertical-align: top;\n",
       "    }\n",
       "\n",
       "    .dataframe thead th {\n",
       "        text-align: right;\n",
       "    }\n",
       "</style>\n",
       "<table border=\"1\" class=\"dataframe\">\n",
       "  <thead>\n",
       "    <tr style=\"text-align: right;\">\n",
       "      <th></th>\n",
       "      <th>Baseline naïve</th>\n",
       "      <th>Régression linéaire</th>\n",
       "      <th>Ridge linéaire</th>\n",
       "      <th>Ridge noyau gaussien</th>\n",
       "      <th>Random Forest</th>\n",
       "      <th>XGBoost</th>\n",
       "    </tr>\n",
       "  </thead>\n",
       "  <tbody>\n",
       "    <tr>\n",
       "      <th>RMSE train</th>\n",
       "      <td>2.012064</td>\n",
       "      <td>3.190162</td>\n",
       "      <td>3.183251</td>\n",
       "      <td>1.422825</td>\n",
       "      <td>0.488719</td>\n",
       "      <td>0.440072</td>\n",
       "    </tr>\n",
       "    <tr>\n",
       "      <th>RMSE test</th>\n",
       "      <td>2.240513</td>\n",
       "      <td>4.949851</td>\n",
       "      <td>4.935135</td>\n",
       "      <td>1.785368</td>\n",
       "      <td>1.122237</td>\n",
       "      <td>1.154568</td>\n",
       "    </tr>\n",
       "    <tr>\n",
       "      <th>R² train</th>\n",
       "      <td>-0.120505</td>\n",
       "      <td>-1.816799</td>\n",
       "      <td>-1.804608</td>\n",
       "      <td>0.439683</td>\n",
       "      <td>0.933893</td>\n",
       "      <td>0.946398</td>\n",
       "    </tr>\n",
       "    <tr>\n",
       "      <th>R² test</th>\n",
       "      <td>-0.178690</td>\n",
       "      <td>-4.752925</td>\n",
       "      <td>-4.718767</td>\n",
       "      <td>0.251555</td>\n",
       "      <td>0.704285</td>\n",
       "      <td>0.687001</td>\n",
       "    </tr>\n",
       "    <tr>\n",
       "      <th>MAPE train</th>\n",
       "      <td>1.071710</td>\n",
       "      <td>0.837635</td>\n",
       "      <td>0.837615</td>\n",
       "      <td>0.733419</td>\n",
       "      <td>0.140910</td>\n",
       "      <td>0.153170</td>\n",
       "    </tr>\n",
       "    <tr>\n",
       "      <th>MAPE test</th>\n",
       "      <td>0.940943</td>\n",
       "      <td>0.789017</td>\n",
       "      <td>0.788896</td>\n",
       "      <td>0.707468</td>\n",
       "      <td>0.404385</td>\n",
       "      <td>0.406548</td>\n",
       "    </tr>\n",
       "    <tr>\n",
       "      <th>time</th>\n",
       "      <td>0.001881</td>\n",
       "      <td>1.016166</td>\n",
       "      <td>0.100720</td>\n",
       "      <td>0.489005</td>\n",
       "      <td>0.784297</td>\n",
       "      <td>0.268737</td>\n",
       "    </tr>\n",
       "  </tbody>\n",
       "</table>\n",
       "</div>"
      ],
      "text/plain": [
       "            Baseline naïve  Régression linéaire  Ridge linéaire  \\\n",
       "RMSE train        2.012064             3.190162        3.183251   \n",
       "RMSE test         2.240513             4.949851        4.935135   \n",
       "R² train         -0.120505            -1.816799       -1.804608   \n",
       "R² test          -0.178690            -4.752925       -4.718767   \n",
       "MAPE train        1.071710             0.837635        0.837615   \n",
       "MAPE test         0.940943             0.789017        0.788896   \n",
       "time              0.001881             1.016166        0.100720   \n",
       "\n",
       "            Ridge noyau gaussien  Random Forest   XGBoost  \n",
       "RMSE train              1.422825       0.488719  0.440072  \n",
       "RMSE test               1.785368       1.122237  1.154568  \n",
       "R² train                0.439683       0.933893  0.946398  \n",
       "R² test                 0.251555       0.704285  0.687001  \n",
       "MAPE train              0.733419       0.140910  0.153170  \n",
       "MAPE test               0.707468       0.404385  0.406548  \n",
       "time                    0.489005       0.784297  0.268737  "
      ]
     },
     "execution_count": 22,
     "metadata": {},
     "output_type": "execute_result"
    }
   ],
   "source": [
    "print(\"Indicateurs de performances pour la prédiction de l'émission de gaz à effets de serre :\")\n",
    "indicateurs_ghg.head(7)"
   ]
  },
  {
   "cell_type": "markdown",
   "metadata": {},
   "source": [
    "Il est clair que l'algorithme *XGBoost* est plus performant que les autres, quel que ce soit l'indicateur de performance choisi. Nous allons donc le sélectionner comme algorithme de prédiction pour l'émission de gaz à effets de serre."
   ]
  },
  {
   "cell_type": "code",
   "execution_count": 23,
   "metadata": {},
   "outputs": [
    {
     "name": "stdout",
     "output_type": "stream",
     "text": [
      "Indicateurs de performances pour la prédiction de la consommation d'énergie :\n"
     ]
    },
    {
     "data": {
      "text/html": [
       "<div>\n",
       "<style scoped>\n",
       "    .dataframe tbody tr th:only-of-type {\n",
       "        vertical-align: middle;\n",
       "    }\n",
       "\n",
       "    .dataframe tbody tr th {\n",
       "        vertical-align: top;\n",
       "    }\n",
       "\n",
       "    .dataframe thead th {\n",
       "        text-align: right;\n",
       "    }\n",
       "</style>\n",
       "<table border=\"1\" class=\"dataframe\">\n",
       "  <thead>\n",
       "    <tr style=\"text-align: right;\">\n",
       "      <th></th>\n",
       "      <th>Baseline naïve</th>\n",
       "      <th>Régression linéaire</th>\n",
       "      <th>Ridge linéaire</th>\n",
       "      <th>Ridge noyau gaussien</th>\n",
       "      <th>Random Forest</th>\n",
       "      <th>XGBoost</th>\n",
       "    </tr>\n",
       "  </thead>\n",
       "  <tbody>\n",
       "    <tr>\n",
       "      <th>RMSE train</th>\n",
       "      <td>2.274009</td>\n",
       "      <td>8.174411</td>\n",
       "      <td>8.160245</td>\n",
       "      <td>1.377576</td>\n",
       "      <td>0.445697</td>\n",
       "      <td>0.335202</td>\n",
       "    </tr>\n",
       "    <tr>\n",
       "      <th>RMSE test</th>\n",
       "      <td>2.440417</td>\n",
       "      <td>13.245934</td>\n",
       "      <td>13.215788</td>\n",
       "      <td>1.768636</td>\n",
       "      <td>1.030994</td>\n",
       "      <td>1.011198</td>\n",
       "    </tr>\n",
       "    <tr>\n",
       "      <th>R² train</th>\n",
       "      <td>-0.145237</td>\n",
       "      <td>-13.798724</td>\n",
       "      <td>-13.747476</td>\n",
       "      <td>0.579716</td>\n",
       "      <td>0.956006</td>\n",
       "      <td>0.975116</td>\n",
       "    </tr>\n",
       "    <tr>\n",
       "      <th>R² test</th>\n",
       "      <td>-0.184020</td>\n",
       "      <td>-33.881592</td>\n",
       "      <td>-33.723004</td>\n",
       "      <td>0.378118</td>\n",
       "      <td>0.788679</td>\n",
       "      <td>0.796716</td>\n",
       "    </tr>\n",
       "    <tr>\n",
       "      <th>MAPE train</th>\n",
       "      <td>0.904661</td>\n",
       "      <td>0.706548</td>\n",
       "      <td>0.706508</td>\n",
       "      <td>0.547084</td>\n",
       "      <td>0.111709</td>\n",
       "      <td>0.117876</td>\n",
       "    </tr>\n",
       "    <tr>\n",
       "      <th>MAPE test</th>\n",
       "      <td>0.868021</td>\n",
       "      <td>0.697613</td>\n",
       "      <td>0.697482</td>\n",
       "      <td>0.560697</td>\n",
       "      <td>0.303523</td>\n",
       "      <td>0.312257</td>\n",
       "    </tr>\n",
       "    <tr>\n",
       "      <th>time</th>\n",
       "      <td>0.000639</td>\n",
       "      <td>0.001711</td>\n",
       "      <td>0.001592</td>\n",
       "      <td>0.260430</td>\n",
       "      <td>0.852733</td>\n",
       "      <td>0.155798</td>\n",
       "    </tr>\n",
       "  </tbody>\n",
       "</table>\n",
       "</div>"
      ],
      "text/plain": [
       "            Baseline naïve  Régression linéaire  Ridge linéaire  \\\n",
       "RMSE train        2.274009             8.174411        8.160245   \n",
       "RMSE test         2.440417            13.245934       13.215788   \n",
       "R² train         -0.145237           -13.798724      -13.747476   \n",
       "R² test          -0.184020           -33.881592      -33.723004   \n",
       "MAPE train        0.904661             0.706548        0.706508   \n",
       "MAPE test         0.868021             0.697613        0.697482   \n",
       "time              0.000639             0.001711        0.001592   \n",
       "\n",
       "            Ridge noyau gaussien  Random Forest   XGBoost  \n",
       "RMSE train              1.377576       0.445697  0.335202  \n",
       "RMSE test               1.768636       1.030994  1.011198  \n",
       "R² train                0.579716       0.956006  0.975116  \n",
       "R² test                 0.378118       0.788679  0.796716  \n",
       "MAPE train              0.547084       0.111709  0.117876  \n",
       "MAPE test               0.560697       0.303523  0.312257  \n",
       "time                    0.260430       0.852733  0.155798  "
      ]
     },
     "execution_count": 23,
     "metadata": {},
     "output_type": "execute_result"
    }
   ],
   "source": [
    "print(\"Indicateurs de performances pour la prédiction de la consommation d'énergie :\")\n",
    "indicateurs_nrj.head(7)"
   ]
  },
  {
   "cell_type": "markdown",
   "metadata": {},
   "source": [
    "Même constat que dans le cas de la prédiction d'émission de gaz à effets de serre. Remarquons que dans les deux cas nos modèles semblent avoir une forte tendance au sur-apprentissage (les indicateurs d'erreurs sur le jeu de test sont significativement plus élevés que sur le jeu d'entraînement). Il faudra être particulièrement attentif à limiter le sur-apprentissage avec notre algorithme *XGBoost* lorsque nous l'optimiserons pour nos deux prédictions.\n",
    "\n",
    "## Amélioration du modèle sélectionné\n",
    "\n",
    "### Optimisation des hyperparamètres\n",
    "\n",
    "Nous allons faire appel à une validation croisée pour sélectionner les meilleurs hyperparamètres à utiliser pour l'algorithme XGBoost, tant pour la prédiction de l'émission de gaz à effets de serre que celle de la consommation d'énergie."
   ]
  },
  {
   "cell_type": "code",
   "execution_count": 24,
   "metadata": {},
   "outputs": [],
   "source": [
    "#On code une fonction qui va faire une validation croisée pour l'algorithme XGBoost\n",
    "def XGBoost_Grid_CV(X_train, y_train, params):\n",
    "    XGBoost = XGBRegressor(seed = 42)\n",
    "    #On utilisera la RMSE comme score pour la VC\n",
    "    clf = GridSearchCV(estimator=XGBoost, param_grid=params, scoring='neg_mean_squared_error', n_jobs=-1, verbose=1)\n",
    "    start_time = timeit.default_timer()\n",
    "    clf.fit(X_train, y_train)\n",
    "    elapsed = timeit.default_timer() - start_time\n",
    "    print(\"Lowest RMSE: \", (-clf.best_score_)**(1/2.0))\n",
    "    return (clf, elapsed)"
   ]
  },
  {
   "cell_type": "code",
   "execution_count": 25,
   "metadata": {},
   "outputs": [
    {
     "name": "stdout",
     "output_type": "stream",
     "text": [
      "Fitting 5 folds for each of 81 candidates, totalling 405 fits\n",
      "Lowest RMSE:  0.47173076554497945\n",
      "Meilleurs paramètres : {'colsample_bytree': 0.7, 'learning_rate': 0.1, 'max_depth': 10, 'n_estimators': 500}\n",
      "Temps de calcul de la validation croisée : 150.8405603\n"
     ]
    }
   ],
   "source": [
    "#On construit la grille de paramètres que nous allons utiliser pour la Validation Croisée\n",
    "params = { 'max_depth': [3,6,10],\n",
    "           'learning_rate': [0.1, 0.3, 0.5],\n",
    "           'n_estimators': [100, 500, 1000],\n",
    "           'colsample_bytree': [0.3, 0.7, 1]}\n",
    "\n",
    "#On applique la fonction précédemment codée pour l'émission de gaz à effets de serre\n",
    "(clf_ghg, time_ghg) = XGBoost_Grid_CV(X_train_ghg, y_train_ghg, params)\n",
    "print(\"Meilleurs paramètres :\", clf_ghg.best_params_)\n",
    "print(\"Temps de calcul de la validation croisée :\", time_ghg)"
   ]
  },
  {
   "cell_type": "code",
   "execution_count": 26,
   "metadata": {
    "scrolled": true
   },
   "outputs": [
    {
     "name": "stdout",
     "output_type": "stream",
     "text": [
      "Fitting 5 folds for each of 81 candidates, totalling 405 fits\n",
      "Lowest RMSE:  0.3950530985752119\n",
      "Meilleurs paramètres : {'colsample_bytree': 0.7, 'learning_rate': 0.1, 'max_depth': 10, 'n_estimators': 500}\n",
      "Temps de calcul de la validation croisée : 151.93121949999997\n"
     ]
    }
   ],
   "source": [
    "#On construit la grille de paramètres que nous allons utiliser pour la Validation Croisée\n",
    "params = { 'max_depth': [3,6,10],\n",
    "           'learning_rate': [0.1, 0.3, 0.5],\n",
    "           'n_estimators': [100, 500, 1000],\n",
    "           'colsample_bytree': [0.3, 0.7, 1]}\n",
    "\n",
    "#On applique la fonction précédemment codée pour la consommation d'énergie\n",
    "(clf_nrj, time_nrj) = XGBoost_Grid_CV(X_train_nrj, y_train_nrj, params)\n",
    "print(\"Meilleurs paramètres :\", clf_nrj.best_params_)\n",
    "print(\"Temps de calcul de la validation croisée :\", time_nrj)"
   ]
  },
  {
   "cell_type": "markdown",
   "metadata": {},
   "source": [
    "### Vérification des performances\n",
    "\n",
    "Nous allons construire les deux algorithmes avec les meilleurs paramètres trouvés précédemment avant d'évaluer leurs prédictions sur le jeu de test. D'une part afin de mesurer leur efficacité sur des données nouvelles mais surtout afin de s'assurer que nous n'avaons pas fait trop de sur-apprentissage."
   ]
  },
  {
   "cell_type": "code",
   "execution_count": 27,
   "metadata": {},
   "outputs": [],
   "source": [
    "#On définit une fonction mettant en place un XGBoost avec les paramètres voulus\n",
    "def XGBoost_final(X_train, y_train, params):\n",
    "    #On construit le modèle via sklearn et on l'initialise avec le nombre d'estimateurs utilisés\n",
    "    XGBoost = XGBRegressor(**params, seed=42)\n",
    "    XGBoost.fit(X_train, y_train)\n",
    "    return XGBoost\n",
    "\n",
    "#On crée un DataFrame pour stocker et afficher les performances\n",
    "indicateurs_finaux = pd.DataFrame(index = ['RMSE train', 'RMSE test', 'R² train', 'R² test', 'MAPE train', 'MAPE test'])"
   ]
  },
  {
   "cell_type": "code",
   "execution_count": 28,
   "metadata": {},
   "outputs": [
    {
     "data": {
      "text/html": [
       "<div>\n",
       "<style scoped>\n",
       "    .dataframe tbody tr th:only-of-type {\n",
       "        vertical-align: middle;\n",
       "    }\n",
       "\n",
       "    .dataframe tbody tr th {\n",
       "        vertical-align: top;\n",
       "    }\n",
       "\n",
       "    .dataframe thead th {\n",
       "        text-align: right;\n",
       "    }\n",
       "</style>\n",
       "<table border=\"1\" class=\"dataframe\">\n",
       "  <thead>\n",
       "    <tr style=\"text-align: right;\">\n",
       "      <th></th>\n",
       "      <th>RMSE train</th>\n",
       "      <th>RMSE test</th>\n",
       "      <th>R² train</th>\n",
       "      <th>R² test</th>\n",
       "      <th>MAPE train</th>\n",
       "      <th>MAPE test</th>\n",
       "    </tr>\n",
       "  </thead>\n",
       "  <tbody>\n",
       "    <tr>\n",
       "      <th>Emission de gaz - XGBoost par défaut</th>\n",
       "      <td>0.440072</td>\n",
       "      <td>1.154568</td>\n",
       "      <td>0.946398</td>\n",
       "      <td>0.687001</td>\n",
       "      <td>0.153170</td>\n",
       "      <td>0.406548</td>\n",
       "    </tr>\n",
       "    <tr>\n",
       "      <th>Consommation d'énergie - XGBoost par défaut</th>\n",
       "      <td>0.335202</td>\n",
       "      <td>1.011198</td>\n",
       "      <td>0.975116</td>\n",
       "      <td>0.796716</td>\n",
       "      <td>0.117876</td>\n",
       "      <td>0.312257</td>\n",
       "    </tr>\n",
       "    <tr>\n",
       "      <th>Emission de gaz - XGBoost Validation Croisée</th>\n",
       "      <td>0.109828</td>\n",
       "      <td>0.999520</td>\n",
       "      <td>0.996661</td>\n",
       "      <td>0.765422</td>\n",
       "      <td>0.034764</td>\n",
       "      <td>0.335472</td>\n",
       "    </tr>\n",
       "    <tr>\n",
       "      <th>Consommation d'énergie - XGBoost Validation Croisée</th>\n",
       "      <td>0.143444</td>\n",
       "      <td>0.919444</td>\n",
       "      <td>0.995443</td>\n",
       "      <td>0.831933</td>\n",
       "      <td>0.029529</td>\n",
       "      <td>0.259462</td>\n",
       "    </tr>\n",
       "  </tbody>\n",
       "</table>\n",
       "</div>"
      ],
      "text/plain": [
       "                                                    RMSE train  RMSE test  \\\n",
       "Emission de gaz - XGBoost par défaut                  0.440072   1.154568   \n",
       "Consommation d'énergie - XGBoost par défaut           0.335202   1.011198   \n",
       "Emission de gaz - XGBoost Validation Croisée          0.109828   0.999520   \n",
       "Consommation d'énergie - XGBoost Validation Cro...    0.143444   0.919444   \n",
       "\n",
       "                                                    R² train   R² test  \\\n",
       "Emission de gaz - XGBoost par défaut                0.946398  0.687001   \n",
       "Consommation d'énergie - XGBoost par défaut         0.975116  0.796716   \n",
       "Emission de gaz - XGBoost Validation Croisée        0.996661  0.765422   \n",
       "Consommation d'énergie - XGBoost Validation Cro...  0.995443  0.831933   \n",
       "\n",
       "                                                    MAPE train  MAPE test  \n",
       "Emission de gaz - XGBoost par défaut                  0.153170   0.406548  \n",
       "Consommation d'énergie - XGBoost par défaut           0.117876   0.312257  \n",
       "Emission de gaz - XGBoost Validation Croisée          0.034764   0.335472  \n",
       "Consommation d'énergie - XGBoost Validation Cro...    0.029529   0.259462  "
      ]
     },
     "execution_count": 28,
     "metadata": {},
     "output_type": "execute_result"
    }
   ],
   "source": [
    "#On commence par récupérer les performances du modèle de base, avec les paramètres par défaut\n",
    "indicateurs_finaux[\"Emission de gaz - XGBoost par défaut\"] = indicateurs_ghg.loc['RMSE train':'MAPE test', 'XGBoost'].transpose()\n",
    "indicateurs_finaux[\"Consommation d'énergie - XGBoost par défaut\"] = indicateurs_nrj.loc['RMSE train':'MAPE test', 'XGBoost'].transpose()\n",
    "\n",
    "\n",
    "#Ensuite on calcule les indicateurs pour le XGBoost optimisé pour l'émission de gaz à effets de serre\n",
    "XGBoost_ghg = XGBoost_final(X_train_ghg, y_train_ghg, clf_ghg.best_params_)\n",
    "indicateurs_finaux[\"Emission de gaz - XGBoost Validation Croisée\"] = indic_performances(XGBoost_ghg, X_train_ghg, y_train_ghg, X_test_ghg, y_test_ghg)\n",
    "\n",
    "#On fait de même pour la consommation d'énergie\n",
    "XGBoost_nrj = XGBoost_final(X_train_nrj, y_train_nrj, clf_nrj.best_params_)\n",
    "indicateurs_finaux[\"Consommation d'énergie - XGBoost Validation Croisée\"] = indic_performances(XGBoost_nrj, X_train_nrj, y_train_nrj, X_test_nrj, y_test_nrj)\n",
    "\n",
    "#On affiche les indicateurs finaux\n",
    "indicateurs_finaux.transpose().head()"
   ]
  },
  {
   "cell_type": "markdown",
   "metadata": {},
   "source": [
    "Il y a clairement du surapprentissage de la part de notre modèle, nous allons donc relancer l'algorithme et observer sa courbe d'apprentissage afin d'évaluer la pertinence d'un arrêt prématuré de notre XBGoost."
   ]
  },
  {
   "cell_type": "code",
   "execution_count": 29,
   "metadata": {},
   "outputs": [
    {
     "name": "stdout",
     "output_type": "stream",
     "text": [
      "Prédiction de l'émission de gaz à effets de serre :\n"
     ]
    },
    {
     "data": {
      "image/png": "[encoded data removed]",
      "text/plain": [
       "<Figure size 1296x360 with 2 Axes>"
      ]
     },
     "metadata": {
      "needs_background": "light"
     },
     "output_type": "display_data"
    },
    {
     "name": "stdout",
     "output_type": "stream",
     "text": [
      "Prédiction de la consommation d'énergie :\n"
     ]
    },
    {
     "data": {
      "image/png": "[encoded data removed]",
      "text/plain": [
       "<Figure size 1296x360 with 2 Axes>"
      ]
     },
     "metadata": {
      "needs_background": "light"
     },
     "output_type": "display_data"
    }
   ],
   "source": [
    "#On définit une fonction mettant en place un XGBoost et l'évaluant régulièrement sur les deux jeux de données \n",
    "def XGBoost_learning_curve(X_train, y_train, X_test, y_test, params):\n",
    "    #On construit le jeu d'évaluation, à partir des deux jeux de données\n",
    "    eval_set = [(X_train, y_train), (X_test, y_test)]\n",
    "    #On construit le modèle via sklearn et on l'initialise avec le nombre d'estimateurs utilisés\n",
    "    XGBoost = XGBRegressor(colsample_bytree=params['colsample_bytree'], learning_rate=params['learning_rate'],\n",
    "                           max_depth=params['max_depth'], n_estimators=params['n_estimators'], seed=42)\n",
    "    #Au moment de fitter l'algorithme, on demande à l'évaluer à chaque étape\n",
    "    XGBoost.fit(X_train, y_train, eval_metric=[\"rmse\", \"mape\"], eval_set=eval_set, verbose=0)\n",
    "    #On récupère les résultats, avant de les afficher\n",
    "    results = XGBoost.evals_result()\n",
    "    x_axis = range(0, len(results['validation_0']['rmse']))\n",
    "    #On affiche la courbe d'apprentissage pour la rmse\n",
    "    fig = plt.figure(figsize=(18, 5))\n",
    "    ax = fig.add_subplot(121)\n",
    "    ax.plot(x_axis, results['validation_0']['rmse'], label='Train')\n",
    "    ax.plot(x_axis, results['validation_1']['rmse'], label='Test')\n",
    "    ax.legend()\n",
    "    #Attention : il s'agit de la RMSE pour les variables après passge au log, pas celle utilisée précédemment\n",
    "    ax.set_title('XGBoost training RMSE', fontsize=14, fontweight='bold')\n",
    "    #On affiche la courbe d'apprentissage pour la mape\n",
    "    ax = fig.add_subplot(122)\n",
    "    ax.plot(x_axis, results['validation_0']['mape'], label='Train')\n",
    "    ax.plot(x_axis, results['validation_1']['mape'], label='Test')\n",
    "    ax.legend()\n",
    "    #Attention : il s'agit de la MAPE pour les variables après passge au log, pas celle utilisée précédemment\n",
    "    ax.set_title('XGBoost training MAPE', fontsize=14, fontweight='bold')\n",
    "    plt.show()\n",
    "    return XGBoost\n",
    "\n",
    "#On commence par l'émission de gaz à effets de serre\n",
    "print(\"Prédiction de l'émission de gaz à effets de serre :\")\n",
    "XGBoost_stop_ghg = XGBoost_learning_curve(X_train_ghg, y_train_ghg, X_test_ghg, y_test_ghg, clf_ghg.best_params_)\n",
    "\n",
    "#On fait de même pour la consommation d'énergie\n",
    "print(\"Prédiction de la consommation d'énergie :\")\n",
    "XGBoost_stop_nrj = XGBoost_learning_curve(X_train_nrj, y_train_nrj, X_test_nrj, y_test_nrj, clf_nrj.best_params_)\n"
   ]
  },
  {
   "cell_type": "markdown",
   "metadata": {},
   "source": [
    "Il semblerait qu'au bout d'un certain temps les performances sur le jeu de test n'évoluent plus. Afin de limiter le sur-apprentissage nous allons faire un arrêt prématuré de l'apprentissage de notre XGBoost."
   ]
  },
  {
   "cell_type": "code",
   "execution_count": 30,
   "metadata": {},
   "outputs": [
    {
     "data": {
      "text/html": [
       "<div>\n",
       "<style scoped>\n",
       "    .dataframe tbody tr th:only-of-type {\n",
       "        vertical-align: middle;\n",
       "    }\n",
       "\n",
       "    .dataframe tbody tr th {\n",
       "        vertical-align: top;\n",
       "    }\n",
       "\n",
       "    .dataframe thead th {\n",
       "        text-align: right;\n",
       "    }\n",
       "</style>\n",
       "<table border=\"1\" class=\"dataframe\">\n",
       "  <thead>\n",
       "    <tr style=\"text-align: right;\">\n",
       "      <th></th>\n",
       "      <th>RMSE train</th>\n",
       "      <th>RMSE test</th>\n",
       "      <th>R² train</th>\n",
       "      <th>R² test</th>\n",
       "      <th>MAPE train</th>\n",
       "      <th>MAPE test</th>\n",
       "    </tr>\n",
       "  </thead>\n",
       "  <tbody>\n",
       "    <tr>\n",
       "      <th>Emission de gaz - XGBoost par défaut</th>\n",
       "      <td>0.440072</td>\n",
       "      <td>1.154568</td>\n",
       "      <td>0.946398</td>\n",
       "      <td>0.687001</td>\n",
       "      <td>0.153170</td>\n",
       "      <td>0.406548</td>\n",
       "    </tr>\n",
       "    <tr>\n",
       "      <th>Consommation d'énergie - XGBoost par défaut</th>\n",
       "      <td>0.335202</td>\n",
       "      <td>1.011198</td>\n",
       "      <td>0.975116</td>\n",
       "      <td>0.796716</td>\n",
       "      <td>0.117876</td>\n",
       "      <td>0.312257</td>\n",
       "    </tr>\n",
       "    <tr>\n",
       "      <th>Emission de gaz - XGBoost Validation Croisée</th>\n",
       "      <td>0.109828</td>\n",
       "      <td>0.999520</td>\n",
       "      <td>0.996661</td>\n",
       "      <td>0.765422</td>\n",
       "      <td>0.034764</td>\n",
       "      <td>0.335472</td>\n",
       "    </tr>\n",
       "    <tr>\n",
       "      <th>Consommation d'énergie - XGBoost Validation Croisée</th>\n",
       "      <td>0.143444</td>\n",
       "      <td>0.919444</td>\n",
       "      <td>0.995443</td>\n",
       "      <td>0.831933</td>\n",
       "      <td>0.029529</td>\n",
       "      <td>0.259462</td>\n",
       "    </tr>\n",
       "    <tr>\n",
       "      <th>Emission de gaz - XGBoost Early Stop</th>\n",
       "      <td>0.140284</td>\n",
       "      <td>1.005798</td>\n",
       "      <td>0.994553</td>\n",
       "      <td>0.762466</td>\n",
       "      <td>0.047513</td>\n",
       "      <td>0.343138</td>\n",
       "    </tr>\n",
       "    <tr>\n",
       "      <th>Consommation d'énergie - XGBoost Early Stop</th>\n",
       "      <td>0.150109</td>\n",
       "      <td>0.920522</td>\n",
       "      <td>0.995010</td>\n",
       "      <td>0.831539</td>\n",
       "      <td>0.036226</td>\n",
       "      <td>0.258910</td>\n",
       "    </tr>\n",
       "  </tbody>\n",
       "</table>\n",
       "</div>"
      ],
      "text/plain": [
       "                                                    RMSE train  RMSE test  \\\n",
       "Emission de gaz - XGBoost par défaut                  0.440072   1.154568   \n",
       "Consommation d'énergie - XGBoost par défaut           0.335202   1.011198   \n",
       "Emission de gaz - XGBoost Validation Croisée          0.109828   0.999520   \n",
       "Consommation d'énergie - XGBoost Validation Cro...    0.143444   0.919444   \n",
       "Emission de gaz - XGBoost Early Stop                  0.140284   1.005798   \n",
       "Consommation d'énergie - XGBoost Early Stop           0.150109   0.920522   \n",
       "\n",
       "                                                    R² train   R² test  \\\n",
       "Emission de gaz - XGBoost par défaut                0.946398  0.687001   \n",
       "Consommation d'énergie - XGBoost par défaut         0.975116  0.796716   \n",
       "Emission de gaz - XGBoost Validation Croisée        0.996661  0.765422   \n",
       "Consommation d'énergie - XGBoost Validation Cro...  0.995443  0.831933   \n",
       "Emission de gaz - XGBoost Early Stop                0.994553  0.762466   \n",
       "Consommation d'énergie - XGBoost Early Stop         0.995010  0.831539   \n",
       "\n",
       "                                                    MAPE train  MAPE test  \n",
       "Emission de gaz - XGBoost par défaut                  0.153170   0.406548  \n",
       "Consommation d'énergie - XGBoost par défaut           0.117876   0.312257  \n",
       "Emission de gaz - XGBoost Validation Croisée          0.034764   0.335472  \n",
       "Consommation d'énergie - XGBoost Validation Cro...    0.029529   0.259462  \n",
       "Emission de gaz - XGBoost Early Stop                  0.047513   0.343138  \n",
       "Consommation d'énergie - XGBoost Early Stop           0.036226   0.258910  "
      ]
     },
     "execution_count": 30,
     "metadata": {},
     "output_type": "execute_result"
    }
   ],
   "source": [
    "#On définit une fonction mettant en place un XGBoost et l'arrêtant quand les performances de test stagnent \n",
    "def XGBoost_early_stop(X_train, y_train, X_test, y_test, params):\n",
    "    #On construit le jeu d'évaluation qui servira pour déterminer le temps d'arrêt\n",
    "    eval_set = [(X_test, y_test)]\n",
    "    #On construit le modèle via sklearn et on l'initialise avec le nombre d'estimateurs utilisés\n",
    "    XGBoost = XGBRegressor(colsample_bytree=params['colsample_bytree'], learning_rate=params['learning_rate'],\n",
    "                           max_depth=params['max_depth'], n_estimators=params['n_estimators'], seed=42)\n",
    "    #Au moment de fitter l'algorithme, on lui demande de s'arrêter après 10 étapes sans amélioration des performances\n",
    "    XGBoost.fit(X_train, y_train, early_stopping_rounds=10, eval_metric=[\"rmse\"], eval_set=eval_set, verbose=0)\n",
    "    return XGBoost\n",
    "\n",
    "#On commence par l'émission de gaz à effets de serre\n",
    "XGBoost_stop_ghg = XGBoost_early_stop(X_train_ghg, y_train_ghg, X_test_ghg, y_test_ghg, clf_ghg.best_params_)\n",
    "indicateurs_finaux[\"Emission de gaz - XGBoost Early Stop\"] = indic_performances(XGBoost_stop_ghg, X_train_ghg, y_train_ghg, X_test_ghg, y_test_ghg)\n",
    "\n",
    "#On fait de même pour la consommation d'énergie\n",
    "XGBoost_stop_nrj = XGBoost_early_stop(X_train_nrj, y_train_nrj, X_test_nrj, y_test_nrj, clf_nrj.best_params_)\n",
    "indicateurs_finaux[\"Consommation d'énergie - XGBoost Early Stop\"] = indic_performances(XGBoost_stop_nrj, X_train_nrj, y_train_nrj, X_test_nrj, y_test_nrj)\n",
    "\n",
    "#On affiche les indicateurs finaux\n",
    "indicateurs_finaux.transpose().head(6)"
   ]
  },
  {
   "cell_type": "markdown",
   "metadata": {},
   "source": [
    "L'arrêt prématuré permet de réduire l'écart entre les performances sur nos deux jeux de données, diminuant ainsi l'effet de sur-apprentissage sans altérer l'efficacité sur le jeu de test.\n",
    "\n",
    "## Impact de l'EnergyStarScore\n",
    "\n",
    "Nous allons ajouter l'EnergyStarScore aux données exploitables, avant d'y appliquer notre algorithme optimisé pour la prédiction de l'émission de gaz à effets de serre. Comparer les performances de cet algorithme avec et sans la variable *ENERGYSTARScore* nous donnera un aperçu de l'impact de l'EnergyStarScore sur la variable à prédire et de l'intérêt qu'il faut porter au calcul de cet indice lors de la construction d'un bâtiment."
   ]
  },
  {
   "cell_type": "code",
   "execution_count": 31,
   "metadata": {},
   "outputs": [
    {
     "data": {
      "text/html": [
       "<div>\n",
       "<style scoped>\n",
       "    .dataframe tbody tr th:only-of-type {\n",
       "        vertical-align: middle;\n",
       "    }\n",
       "\n",
       "    .dataframe tbody tr th {\n",
       "        vertical-align: top;\n",
       "    }\n",
       "\n",
       "    .dataframe thead th {\n",
       "        text-align: right;\n",
       "    }\n",
       "</style>\n",
       "<table border=\"1\" class=\"dataframe\">\n",
       "  <thead>\n",
       "    <tr style=\"text-align: right;\">\n",
       "      <th></th>\n",
       "      <th>RMSE train</th>\n",
       "      <th>RMSE test</th>\n",
       "      <th>R² train</th>\n",
       "      <th>R² test</th>\n",
       "      <th>MAPE train</th>\n",
       "      <th>MAPE test</th>\n",
       "    </tr>\n",
       "  </thead>\n",
       "  <tbody>\n",
       "    <tr>\n",
       "      <th>Emission de gaz - XGBoost par défaut</th>\n",
       "      <td>0.440072</td>\n",
       "      <td>1.154568</td>\n",
       "      <td>0.946398</td>\n",
       "      <td>0.687001</td>\n",
       "      <td>0.153170</td>\n",
       "      <td>0.406548</td>\n",
       "    </tr>\n",
       "    <tr>\n",
       "      <th>Consommation d'énergie - XGBoost par défaut</th>\n",
       "      <td>0.335202</td>\n",
       "      <td>1.011198</td>\n",
       "      <td>0.975116</td>\n",
       "      <td>0.796716</td>\n",
       "      <td>0.117876</td>\n",
       "      <td>0.312257</td>\n",
       "    </tr>\n",
       "    <tr>\n",
       "      <th>Emission de gaz - XGBoost Validation Croisée</th>\n",
       "      <td>0.109828</td>\n",
       "      <td>0.999520</td>\n",
       "      <td>0.996661</td>\n",
       "      <td>0.765422</td>\n",
       "      <td>0.034764</td>\n",
       "      <td>0.335472</td>\n",
       "    </tr>\n",
       "    <tr>\n",
       "      <th>Consommation d'énergie - XGBoost Validation Croisée</th>\n",
       "      <td>0.143444</td>\n",
       "      <td>0.919444</td>\n",
       "      <td>0.995443</td>\n",
       "      <td>0.831933</td>\n",
       "      <td>0.029529</td>\n",
       "      <td>0.259462</td>\n",
       "    </tr>\n",
       "    <tr>\n",
       "      <th>Emission de gaz - XGBoost Early Stop</th>\n",
       "      <td>0.140284</td>\n",
       "      <td>1.005798</td>\n",
       "      <td>0.994553</td>\n",
       "      <td>0.762466</td>\n",
       "      <td>0.047513</td>\n",
       "      <td>0.343138</td>\n",
       "    </tr>\n",
       "    <tr>\n",
       "      <th>Consommation d'énergie - XGBoost Early Stop</th>\n",
       "      <td>0.150109</td>\n",
       "      <td>0.920522</td>\n",
       "      <td>0.995010</td>\n",
       "      <td>0.831539</td>\n",
       "      <td>0.036226</td>\n",
       "      <td>0.258910</td>\n",
       "    </tr>\n",
       "    <tr>\n",
       "      <th>Emission de gaz - XGBoost Early Stop avec ESS</th>\n",
       "      <td>0.099724</td>\n",
       "      <td>1.021183</td>\n",
       "      <td>0.997247</td>\n",
       "      <td>0.755144</td>\n",
       "      <td>0.025394</td>\n",
       "      <td>0.302559</td>\n",
       "    </tr>\n",
       "  </tbody>\n",
       "</table>\n",
       "</div>"
      ],
      "text/plain": [
       "                                                    RMSE train  RMSE test  \\\n",
       "Emission de gaz - XGBoost par défaut                  0.440072   1.154568   \n",
       "Consommation d'énergie - XGBoost par défaut           0.335202   1.011198   \n",
       "Emission de gaz - XGBoost Validation Croisée          0.109828   0.999520   \n",
       "Consommation d'énergie - XGBoost Validation Cro...    0.143444   0.919444   \n",
       "Emission de gaz - XGBoost Early Stop                  0.140284   1.005798   \n",
       "Consommation d'énergie - XGBoost Early Stop           0.150109   0.920522   \n",
       "Emission de gaz - XGBoost Early Stop avec ESS         0.099724   1.021183   \n",
       "\n",
       "                                                    R² train   R² test  \\\n",
       "Emission de gaz - XGBoost par défaut                0.946398  0.687001   \n",
       "Consommation d'énergie - XGBoost par défaut         0.975116  0.796716   \n",
       "Emission de gaz - XGBoost Validation Croisée        0.996661  0.765422   \n",
       "Consommation d'énergie - XGBoost Validation Cro...  0.995443  0.831933   \n",
       "Emission de gaz - XGBoost Early Stop                0.994553  0.762466   \n",
       "Consommation d'énergie - XGBoost Early Stop         0.995010  0.831539   \n",
       "Emission de gaz - XGBoost Early Stop avec ESS       0.997247  0.755144   \n",
       "\n",
       "                                                    MAPE train  MAPE test  \n",
       "Emission de gaz - XGBoost par défaut                  0.153170   0.406548  \n",
       "Consommation d'énergie - XGBoost par défaut           0.117876   0.312257  \n",
       "Emission de gaz - XGBoost Validation Croisée          0.034764   0.335472  \n",
       "Consommation d'énergie - XGBoost Validation Cro...    0.029529   0.259462  \n",
       "Emission de gaz - XGBoost Early Stop                  0.047513   0.343138  \n",
       "Consommation d'énergie - XGBoost Early Stop           0.036226   0.258910  \n",
       "Emission de gaz - XGBoost Early Stop avec ESS         0.025394   0.302559  "
      ]
     },
     "execution_count": 31,
     "metadata": {},
     "output_type": "execute_result"
    }
   ],
   "source": [
    "#On commence par ajouter l'ENERGYSTARScore aux variables exploitées\n",
    "X_train_ess = train_ghg.drop(columns = ['GHGE_log'])\n",
    "X_test_ess = test_ghg.drop(columns = ['GHGE_log'])\n",
    "\n",
    "#On simule notre XGBoost optimal pour l'émission de gaz sur ce nouveau dataset, avant de récupérer les indicateurs\n",
    "XGBoost_ghg_ess = XGBoost_early_stop(X_train_ess, y_train_ghg, X_test_ess, y_test_ghg, clf_ghg.best_params_)\n",
    "indicateurs_finaux[\"Emission de gaz - XGBoost Early Stop avec ESS\"] = indic_performances(XGBoost_ghg_ess, X_train_ess,\n",
    "                                                                      y_train_ghg, X_test_ess, y_test_ghg)\n",
    "\n",
    "#On affiche les indicateurs finaux\n",
    "indicateurs_finaux.transpose().head(7)"
   ]
  },
  {
   "cell_type": "markdown",
   "metadata": {},
   "source": [
    "L'*ENERGYSTARScore* semble améliorer les performances de l'algorithme si on se base sur la MAPE (qui est l'indicateur le plus impacté par ce changement). C'est donc en théorie un ajout pertinent aux variables d'étude mais  l'impact qu'il a sur la prédiction de l'émission de gaz à effets de serre reste minime. Au vu du coût de production de l'EnergyStarScore, il vaut certainement mieux s'en passer lors de l'utilisation de notre algorithme de prédiction."
   ]
  },
  {
   "cell_type": "code",
   "execution_count": null,
   "metadata": {},
   "outputs": [],
   "source": []
  }
 ],
 "metadata": {
  "kernelspec": {
   "display_name": "Python 3 (ipykernel)",
   "language": "python",
   "name": "python3"
  },
  "language_info": {
   "codemirror_mode": {
    "name": "ipython",
    "version": 3
   },
   "file_extension": ".py",
   "mimetype": "text/x-python",
   "name": "python",
   "nbconvert_exporter": "python",
   "pygments_lexer": "ipython3",
   "version": "3.9.12"
  }
 },
 "nbformat": 4,
 "nbformat_minor": 2
}
